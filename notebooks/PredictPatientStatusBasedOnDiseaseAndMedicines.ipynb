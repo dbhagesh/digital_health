{
 "cells": [
  {
   "cell_type": "markdown",
   "metadata": {},
   "source": [
    "## Step 1: Data Loading and getting insights"
   ]
  },
  {
   "cell_type": "code",
   "execution_count": 3,
   "metadata": {},
   "outputs": [
    {
     "data": {
      "text/html": [
       "<div>\n",
       "<style scoped>\n",
       "    .dataframe tbody tr th:only-of-type {\n",
       "        vertical-align: middle;\n",
       "    }\n",
       "\n",
       "    .dataframe tbody tr th {\n",
       "        vertical-align: top;\n",
       "    }\n",
       "\n",
       "    .dataframe thead th {\n",
       "        text-align: right;\n",
       "    }\n",
       "</style>\n",
       "<table border=\"1\" class=\"dataframe\">\n",
       "  <thead>\n",
       "    <tr style=\"text-align: right;\">\n",
       "      <th></th>\n",
       "      <th>disease</th>\n",
       "      <th>doctor_health_id</th>\n",
       "      <th>doctor_name</th>\n",
       "      <th>entry_date</th>\n",
       "      <th>hospital_name</th>\n",
       "      <th>id</th>\n",
       "      <th>medication</th>\n",
       "      <th>patient_health_id</th>\n",
       "      <th>patient_name</th>\n",
       "      <th>region</th>\n",
       "      <th>status</th>\n",
       "    </tr>\n",
       "  </thead>\n",
       "  <tbody>\n",
       "    <tr>\n",
       "      <th>0</th>\n",
       "      <td>Colds</td>\n",
       "      <td>D-911100013</td>\n",
       "      <td>Aidan Jensen</td>\n",
       "      <td>Mar 4, 2021</td>\n",
       "      <td>HOSMAT Hospital</td>\n",
       "      <td>0</td>\n",
       "      <td>Venlafaxine HCl ER</td>\n",
       "      <td>P-911100012</td>\n",
       "      <td>Kathleen Lata</td>\n",
       "      <td>Shillong</td>\n",
       "      <td>Recovering</td>\n",
       "    </tr>\n",
       "    <tr>\n",
       "      <th>1</th>\n",
       "      <td>Colds and Flu.</td>\n",
       "      <td>D-91110005</td>\n",
       "      <td>Regan Pierce</td>\n",
       "      <td>Mar 4, 2021</td>\n",
       "      <td>Kanpur Medical Center</td>\n",
       "      <td>1</td>\n",
       "      <td>Metformin HCl</td>\n",
       "      <td>P-911100015</td>\n",
       "      <td>Giselle Chaudhary</td>\n",
       "      <td>Pondicherry</td>\n",
       "      <td>Recovering</td>\n",
       "    </tr>\n",
       "    <tr>\n",
       "      <th>2</th>\n",
       "      <td>Conjunctivitis</td>\n",
       "      <td>D-91110001</td>\n",
       "      <td>Shellie William</td>\n",
       "      <td>Nov 23, 2020</td>\n",
       "      <td>Apex Hospitals</td>\n",
       "      <td>2</td>\n",
       "      <td>Klor-Con M20</td>\n",
       "      <td>P-91110002</td>\n",
       "      <td>Mannix Rai</td>\n",
       "      <td>Delhi</td>\n",
       "      <td>Recovered</td>\n",
       "    </tr>\n",
       "    <tr>\n",
       "      <th>3</th>\n",
       "      <td>Allergies</td>\n",
       "      <td>D-911100015</td>\n",
       "      <td>Emerson Dudley</td>\n",
       "      <td>Sep 18, 2021</td>\n",
       "      <td>Aditya Hospitals</td>\n",
       "      <td>3</td>\n",
       "      <td>Venlafaxine HCl ER</td>\n",
       "      <td>P-91110006</td>\n",
       "      <td>Rhea Prasad</td>\n",
       "      <td>Kohima</td>\n",
       "      <td>Passed Away</td>\n",
       "    </tr>\n",
       "    <tr>\n",
       "      <th>4</th>\n",
       "      <td>Diarrhea</td>\n",
       "      <td>D-911100012</td>\n",
       "      <td>Graham Vang</td>\n",
       "      <td>Jul 6, 2021</td>\n",
       "      <td>Bombay Hospital</td>\n",
       "      <td>4</td>\n",
       "      <td>Metformin HCl</td>\n",
       "      <td>P-91110007</td>\n",
       "      <td>Raja Saini</td>\n",
       "      <td>Tiruvottiyur</td>\n",
       "      <td>Passed Away</td>\n",
       "    </tr>\n",
       "  </tbody>\n",
       "</table>\n",
       "</div>"
      ],
      "text/plain": [
       "          disease doctor_health_id      doctor_name    entry_date  \\\n",
       "0           Colds      D-911100013     Aidan Jensen   Mar 4, 2021   \n",
       "1  Colds and Flu.       D-91110005     Regan Pierce   Mar 4, 2021   \n",
       "2  Conjunctivitis       D-91110001  Shellie William  Nov 23, 2020   \n",
       "3       Allergies      D-911100015   Emerson Dudley  Sep 18, 2021   \n",
       "4        Diarrhea      D-911100012      Graham Vang   Jul 6, 2021   \n",
       "\n",
       "           hospital_name  id          medication patient_health_id  \\\n",
       "0        HOSMAT Hospital   0  Venlafaxine HCl ER       P-911100012   \n",
       "1  Kanpur Medical Center   1       Metformin HCl       P-911100015   \n",
       "2         Apex Hospitals   2        Klor-Con M20        P-91110002   \n",
       "3       Aditya Hospitals   3  Venlafaxine HCl ER        P-91110006   \n",
       "4        Bombay Hospital   4       Metformin HCl        P-91110007   \n",
       "\n",
       "        patient_name        region       status  \n",
       "0      Kathleen Lata      Shillong   Recovering  \n",
       "1  Giselle Chaudhary   Pondicherry   Recovering  \n",
       "2         Mannix Rai         Delhi    Recovered  \n",
       "3        Rhea Prasad        Kohima  Passed Away  \n",
       "4         Raja Saini  Tiruvottiyur  Passed Away  "
      ]
     },
     "execution_count": 3,
     "metadata": {},
     "output_type": "execute_result"
    }
   ],
   "source": [
    "import pandas as pd\n",
    "df = pd.read_json('data.json') ## random generate data for now\n",
    "df.head()\n",
    "\n",
    "# df_train = pd.read_csv('train.csv') ## training Data\n",
    "# df_test = pd.read_csv('test.csv') ## testing Data\n",
    "# df_train.head(n=5)"
   ]
  },
  {
   "cell_type": "markdown",
   "metadata": {},
   "source": [
    "## Step2: Encoding and Preprocessing steps"
   ]
  },
  {
   "cell_type": "code",
   "execution_count": 4,
   "metadata": {},
   "outputs": [
    {
     "data": {
      "text/html": [
       "<div>\n",
       "<style scoped>\n",
       "    .dataframe tbody tr th:only-of-type {\n",
       "        vertical-align: middle;\n",
       "    }\n",
       "\n",
       "    .dataframe tbody tr th {\n",
       "        vertical-align: top;\n",
       "    }\n",
       "\n",
       "    .dataframe thead th {\n",
       "        text-align: right;\n",
       "    }\n",
       "</style>\n",
       "<table border=\"1\" class=\"dataframe\">\n",
       "  <thead>\n",
       "    <tr style=\"text-align: right;\">\n",
       "      <th></th>\n",
       "      <th>disease</th>\n",
       "      <th>doctor_health_id</th>\n",
       "      <th>doctor_name</th>\n",
       "      <th>entry_date</th>\n",
       "      <th>hospital_name</th>\n",
       "      <th>id</th>\n",
       "      <th>medication</th>\n",
       "      <th>patient_health_id</th>\n",
       "      <th>patient_name</th>\n",
       "      <th>region</th>\n",
       "      <th>status</th>\n",
       "    </tr>\n",
       "  </thead>\n",
       "  <tbody>\n",
       "    <tr>\n",
       "      <th>0</th>\n",
       "      <td>1</td>\n",
       "      <td>5</td>\n",
       "      <td>0</td>\n",
       "      <td>7</td>\n",
       "      <td>6</td>\n",
       "      <td>0</td>\n",
       "      <td>15</td>\n",
       "      <td>4</td>\n",
       "      <td>8</td>\n",
       "      <td>11</td>\n",
       "      <td>2</td>\n",
       "    </tr>\n",
       "    <tr>\n",
       "      <th>1</th>\n",
       "      <td>2</td>\n",
       "      <td>13</td>\n",
       "      <td>13</td>\n",
       "      <td>7</td>\n",
       "      <td>7</td>\n",
       "      <td>1</td>\n",
       "      <td>10</td>\n",
       "      <td>7</td>\n",
       "      <td>5</td>\n",
       "      <td>10</td>\n",
       "      <td>2</td>\n",
       "    </tr>\n",
       "    <tr>\n",
       "      <th>2</th>\n",
       "      <td>3</td>\n",
       "      <td>1</td>\n",
       "      <td>16</td>\n",
       "      <td>12</td>\n",
       "      <td>4</td>\n",
       "      <td>2</td>\n",
       "      <td>5</td>\n",
       "      <td>10</td>\n",
       "      <td>12</td>\n",
       "      <td>6</td>\n",
       "      <td>1</td>\n",
       "    </tr>\n",
       "    <tr>\n",
       "      <th>3</th>\n",
       "      <td>0</td>\n",
       "      <td>7</td>\n",
       "      <td>4</td>\n",
       "      <td>14</td>\n",
       "      <td>0</td>\n",
       "      <td>3</td>\n",
       "      <td>15</td>\n",
       "      <td>14</td>\n",
       "      <td>15</td>\n",
       "      <td>8</td>\n",
       "      <td>0</td>\n",
       "    </tr>\n",
       "    <tr>\n",
       "      <th>4</th>\n",
       "      <td>4</td>\n",
       "      <td>4</td>\n",
       "      <td>5</td>\n",
       "      <td>5</td>\n",
       "      <td>5</td>\n",
       "      <td>4</td>\n",
       "      <td>10</td>\n",
       "      <td>15</td>\n",
       "      <td>14</td>\n",
       "      <td>13</td>\n",
       "      <td>0</td>\n",
       "    </tr>\n",
       "  </tbody>\n",
       "</table>\n",
       "</div>"
      ],
      "text/plain": [
       "   disease  doctor_health_id  doctor_name  entry_date  hospital_name  id  \\\n",
       "0        1                 5            0           7              6   0   \n",
       "1        2                13           13           7              7   1   \n",
       "2        3                 1           16          12              4   2   \n",
       "3        0                 7            4          14              0   3   \n",
       "4        4                 4            5           5              5   4   \n",
       "\n",
       "   medication  patient_health_id  patient_name  region  status  \n",
       "0          15                  4             8      11       2  \n",
       "1          10                  7             5      10       2  \n",
       "2           5                 10            12       6       1  \n",
       "3          15                 14            15       8       0  \n",
       "4          10                 15            14      13       0  "
      ]
     },
     "execution_count": 4,
     "metadata": {},
     "output_type": "execute_result"
    }
   ],
   "source": [
    "from sklearn.preprocessing import LabelEncoder # Encode labels with value between 0 and n_classes-1 .\n",
    "l = LabelEncoder() # encodes array like of shape(n_samples)\n",
    "df = df.apply(l.fit_transform,axis = 0)\n",
    "df.head()"
   ]
  },
  {
   "cell_type": "code",
   "execution_count": 15,
   "metadata": {},
   "outputs": [],
   "source": [
    "X = df.iloc[:, :-1]\n",
    "Y = df[\"status\"]"
   ]
  },
  {
   "cell_type": "code",
   "execution_count": 16,
   "metadata": {},
   "outputs": [],
   "source": [
    "from sklearn.model_selection import train_test_split\n",
    "X_train, X_test, Y_train, Y_test = train_test_split(X, Y, test_size = 0.1, random_state = 101)"
   ]
  },
  {
   "cell_type": "code",
   "execution_count": 17,
   "metadata": {},
   "outputs": [
    {
     "data": {
      "text/plain": [
       "(900, 10)"
      ]
     },
     "execution_count": 17,
     "metadata": {},
     "output_type": "execute_result"
    }
   ],
   "source": [
    "X_train.shape ## to get number of rows and cols"
   ]
  },
  {
   "cell_type": "code",
   "execution_count": 21,
   "metadata": {},
   "outputs": [
    {
     "data": {
      "text/plain": [
       "(100,)"
      ]
     },
     "execution_count": 21,
     "metadata": {},
     "output_type": "execute_result"
    }
   ],
   "source": [
    "Y_test.shape"
   ]
  },
  {
   "cell_type": "markdown",
   "metadata": {},
   "source": [
    "## Step 3: Training on all three Models"
   ]
  },
  {
   "cell_type": "code",
   "execution_count": 22,
   "metadata": {},
   "outputs": [
    {
     "data": {
      "text/plain": [
       "DecisionTreeClassifier(class_weight=None, criterion='entropy', max_depth=3,\n",
       "                       max_features=None, max_leaf_nodes=None,\n",
       "                       min_impurity_decrease=0.0, min_impurity_split=None,\n",
       "                       min_samples_leaf=1, min_samples_split=2,\n",
       "                       min_weight_fraction_leaf=0.0, presort=False,\n",
       "                       random_state=None, splitter='best')"
      ]
     },
     "execution_count": 22,
     "metadata": {},
     "output_type": "execute_result"
    }
   ],
   "source": [
    "## 1. Decision Tree Model\n",
    "from sklearn.tree import DecisionTreeClassifier\n",
    "dtm = DecisionTreeClassifier(criterion=\"entropy\", max_depth=3)\n",
    "dtm.fit(X_train,Y_train)"
   ]
  },
  {
   "cell_type": "code",
   "execution_count": 23,
   "metadata": {},
   "outputs": [
    {
     "data": {
      "text/plain": [
       "KNeighborsClassifier(algorithm='auto', leaf_size=30, metric='minkowski',\n",
       "                     metric_params=None, n_jobs=None, n_neighbors=5, p=2,\n",
       "                     weights='uniform')"
      ]
     },
     "execution_count": 23,
     "metadata": {},
     "output_type": "execute_result"
    }
   ],
   "source": [
    "## 2. K-NN Model\n",
    "from sklearn.neighbors import KNeighborsClassifier\n",
    "knn = KNeighborsClassifier(n_neighbors=5)\n",
    "knn.fit(X_train,Y_train)"
   ]
  },
  {
   "cell_type": "code",
   "execution_count": 24,
   "metadata": {},
   "outputs": [
    {
     "data": {
      "text/plain": [
       "GaussianNB(priors=None, var_smoothing=1e-09)"
      ]
     },
     "execution_count": 24,
     "metadata": {},
     "output_type": "execute_result"
    }
   ],
   "source": [
    "## 3. Gaussian Naive Bayes Model\n",
    "from sklearn.naive_bayes import GaussianNB\n",
    "gnb = GaussianNB()\n",
    "gnb.fit(X_train,Y_train)"
   ]
  },
  {
   "cell_type": "markdown",
   "metadata": {},
   "source": [
    "## Step 3: Predicting on all three Models"
   ]
  },
  {
   "cell_type": "code",
   "execution_count": 28,
   "metadata": {},
   "outputs": [
    {
     "name": "stdout",
     "output_type": "stream",
     "text": [
      "[0 2 1 0 1 2 1 1 2 2 0 1 1 1 2 1 1 2 1 1 0 0 1 2 2 1 2 0 1 1 1 1 2 1 2 1 1\n",
      " 0 0 1 2 2 0 2 2 2 0 1 1 1 1 0 2 2 0 2 2 1 1 1 1 1 1 1 1 2 2 1 1 2 2 1 1 1\n",
      " 2 2 1 1 1 0 1 1 1 2 1 2 1 0 2 2 1 1 1 2 1 2 1 1 2 1]\n",
      "Accuracy: 0.29\n"
     ]
    }
   ],
   "source": [
    "## 1.Decision Tree Model\n",
    "Y_prediction_dtm = dtm.predict(X_test)\n",
    "print(Y_prediction_dtm)\n",
    "\n",
    "# Predict the response for test dataset\n",
    "from sklearn import metrics\n",
    "print(\"Accuracy:\",metrics.accuracy_score(Y_test, Y_prediction_dtm))\n"
   ]
  },
  {
   "cell_type": "code",
   "execution_count": 29,
   "metadata": {},
   "outputs": [
    {
     "name": "stdout",
     "output_type": "stream",
     "text": [
      "[1 0 1 1 0 2 1 1 0 2 0 1 0 1 1 0 0 2 0 1 0 0 1 1 0 0 1 1 1 1 2 1 0 2 1 0 0\n",
      " 0 0 0 0 2 0 2 2 0 2 2 2 1 0 0 1 0 1 1 0 0 0 1 2 0 1 1 1 1 1 0 0 0 1 2 0 0\n",
      " 1 0 0 1 0 0 0 0 1 0 1 1 1 1 0 1 1 1 0 1 2 1 1 0 2 1]\n",
      "Accuracy: 0.25\n"
     ]
    }
   ],
   "source": [
    "## 2.KNN Predict Output\n",
    "Y_prediction_knn= knn.predict(X_test)\n",
    "print(Y_prediction_knn)\n",
    "# Here, you have increased the number of neighbors in the model and accuracy got increased. \n",
    "# But, this is not necessary for each case that an increase in many neighbors increases the accuracy\n",
    "\n",
    "print(\"Accuracy:\",metrics.accuracy_score(Y_test, Y_prediction_knn))\n"
   ]
  },
  {
   "cell_type": "code",
   "execution_count": 30,
   "metadata": {},
   "outputs": [
    {
     "name": "stdout",
     "output_type": "stream",
     "text": [
      "[1 1 1 2 1 1 1 1 1 2 1 1 0 1 2 2 1 2 2 2 2 1 1 2 1 1 2 1 1 1 2 1 2 1 2 0 1\n",
      " 0 0 1 2 2 0 2 2 2 1 0 0 1 1 1 2 2 1 2 1 1 2 1 1 1 1 2 1 2 2 1 1 1 1 1 0 1\n",
      " 2 2 1 1 1 0 1 1 1 2 1 2 1 2 2 2 1 1 1 2 1 1 1 1 2 1]\n",
      "Accuracy: 0.37\n"
     ]
    }
   ],
   "source": [
    "## 3.Gaussian Naive Bayes \n",
    "# Predict Output\n",
    "Y_prediction_gnb= gnb.predict(X_test) # 0:Overcast, 2:Mild\n",
    "print(Y_prediction_gnb)\n",
    "\n",
    "print(\"Accuracy:\",metrics.accuracy_score(Y_test, Y_prediction_gnb))\n",
    "\n"
   ]
  },
  {
   "cell_type": "markdown",
   "metadata": {},
   "source": [
    "## Thank you!"
   ]
  },
  {
   "cell_type": "code",
   "execution_count": null,
   "metadata": {},
   "outputs": [],
   "source": []
  }
 ],
 "metadata": {
  "kernelspec": {
   "display_name": "Python 3",
   "language": "python",
   "name": "python3"
  },
  "language_info": {
   "codemirror_mode": {
    "name": "ipython",
    "version": 3
   },
   "file_extension": ".py",
   "mimetype": "text/x-python",
   "name": "python",
   "nbconvert_exporter": "python",
   "pygments_lexer": "ipython3",
   "version": "3.6.9"
  }
 },
 "nbformat": 4,
 "nbformat_minor": 2
}
