{
 "cells": [
  {
   "cell_type": "markdown",
   "metadata": {},
   "source": [
    "## Step 1: Data Loading and getting insights"
   ]
  },
  {
   "cell_type": "code",
   "execution_count": 8,
   "metadata": {},
   "outputs": [
    {
     "data": {
      "text/html": [
       "<div>\n",
       "<style scoped>\n",
       "    .dataframe tbody tr th:only-of-type {\n",
       "        vertical-align: middle;\n",
       "    }\n",
       "\n",
       "    .dataframe tbody tr th {\n",
       "        vertical-align: top;\n",
       "    }\n",
       "\n",
       "    .dataframe thead th {\n",
       "        text-align: right;\n",
       "    }\n",
       "</style>\n",
       "<table border=\"1\" class=\"dataframe\">\n",
       "  <thead>\n",
       "    <tr style=\"text-align: right;\">\n",
       "      <th></th>\n",
       "      <th>disease</th>\n",
       "      <th>doctor_health_id</th>\n",
       "      <th>doctor_name</th>\n",
       "      <th>entry_date</th>\n",
       "      <th>hospital_name</th>\n",
       "      <th>id</th>\n",
       "      <th>medication</th>\n",
       "      <th>patient_health_id</th>\n",
       "      <th>patient_name</th>\n",
       "      <th>region</th>\n",
       "      <th>status</th>\n",
       "    </tr>\n",
       "  </thead>\n",
       "  <tbody>\n",
       "    <tr>\n",
       "      <th>0</th>\n",
       "      <td>Colds</td>\n",
       "      <td>D-911100013</td>\n",
       "      <td>Aidan Jensen</td>\n",
       "      <td>Mar 4, 2021</td>\n",
       "      <td>HOSMAT Hospital</td>\n",
       "      <td>0</td>\n",
       "      <td>Venlafaxine HCl ER</td>\n",
       "      <td>P-911100012</td>\n",
       "      <td>Kathleen Lata</td>\n",
       "      <td>Shillong</td>\n",
       "      <td>Recovering</td>\n",
       "    </tr>\n",
       "    <tr>\n",
       "      <th>1</th>\n",
       "      <td>Colds and Flu.</td>\n",
       "      <td>D-91110005</td>\n",
       "      <td>Regan Pierce</td>\n",
       "      <td>Mar 4, 2021</td>\n",
       "      <td>Kanpur Medical Center</td>\n",
       "      <td>1</td>\n",
       "      <td>Metformin HCl</td>\n",
       "      <td>P-911100015</td>\n",
       "      <td>Giselle Chaudhary</td>\n",
       "      <td>Pondicherry</td>\n",
       "      <td>Recovering</td>\n",
       "    </tr>\n",
       "    <tr>\n",
       "      <th>2</th>\n",
       "      <td>Conjunctivitis</td>\n",
       "      <td>D-91110001</td>\n",
       "      <td>Shellie William</td>\n",
       "      <td>Nov 23, 2020</td>\n",
       "      <td>Apex Hospitals</td>\n",
       "      <td>2</td>\n",
       "      <td>Klor-Con M20</td>\n",
       "      <td>P-91110002</td>\n",
       "      <td>Mannix Rai</td>\n",
       "      <td>Delhi</td>\n",
       "      <td>Recovered</td>\n",
       "    </tr>\n",
       "    <tr>\n",
       "      <th>3</th>\n",
       "      <td>Allergies</td>\n",
       "      <td>D-911100015</td>\n",
       "      <td>Emerson Dudley</td>\n",
       "      <td>Sep 18, 2021</td>\n",
       "      <td>Aditya Hospitals</td>\n",
       "      <td>3</td>\n",
       "      <td>Venlafaxine HCl ER</td>\n",
       "      <td>P-91110006</td>\n",
       "      <td>Rhea Prasad</td>\n",
       "      <td>Kohima</td>\n",
       "      <td>Passed Away</td>\n",
       "    </tr>\n",
       "    <tr>\n",
       "      <th>4</th>\n",
       "      <td>Diarrhea</td>\n",
       "      <td>D-911100012</td>\n",
       "      <td>Graham Vang</td>\n",
       "      <td>Jul 6, 2021</td>\n",
       "      <td>Bombay Hospital</td>\n",
       "      <td>4</td>\n",
       "      <td>Metformin HCl</td>\n",
       "      <td>P-91110007</td>\n",
       "      <td>Raja Saini</td>\n",
       "      <td>Tiruvottiyur</td>\n",
       "      <td>Passed Away</td>\n",
       "    </tr>\n",
       "  </tbody>\n",
       "</table>\n",
       "</div>"
      ],
      "text/plain": [
       "          disease doctor_health_id      doctor_name    entry_date  \\\n",
       "0           Colds      D-911100013     Aidan Jensen   Mar 4, 2021   \n",
       "1  Colds and Flu.       D-91110005     Regan Pierce   Mar 4, 2021   \n",
       "2  Conjunctivitis       D-91110001  Shellie William  Nov 23, 2020   \n",
       "3       Allergies      D-911100015   Emerson Dudley  Sep 18, 2021   \n",
       "4        Diarrhea      D-911100012      Graham Vang   Jul 6, 2021   \n",
       "\n",
       "           hospital_name  id          medication patient_health_id  \\\n",
       "0        HOSMAT Hospital   0  Venlafaxine HCl ER       P-911100012   \n",
       "1  Kanpur Medical Center   1       Metformin HCl       P-911100015   \n",
       "2         Apex Hospitals   2        Klor-Con M20        P-91110002   \n",
       "3       Aditya Hospitals   3  Venlafaxine HCl ER        P-91110006   \n",
       "4        Bombay Hospital   4       Metformin HCl        P-91110007   \n",
       "\n",
       "        patient_name        region       status  \n",
       "0      Kathleen Lata      Shillong   Recovering  \n",
       "1  Giselle Chaudhary   Pondicherry   Recovering  \n",
       "2         Mannix Rai         Delhi    Recovered  \n",
       "3        Rhea Prasad        Kohima  Passed Away  \n",
       "4         Raja Saini  Tiruvottiyur  Passed Away  "
      ]
     },
     "execution_count": 8,
     "metadata": {},
     "output_type": "execute_result"
    }
   ],
   "source": [
    "import pandas as pd\n",
    "df = pd.read_json('data.json')\n",
    "df.head()\n",
    "\n",
    "# df_train = pd.read_csv('train.csv') ## training Data\n",
    "# df_test = pd.read_csv('test.csv') ## testing Data\n",
    "# df_train.head(n=5)"
   ]
  },
  {
   "cell_type": "markdown",
   "metadata": {},
   "source": [
    "## Data Analysis: Finding Overall recovery Rate"
   ]
  },
  {
   "cell_type": "code",
   "execution_count": 9,
   "metadata": {},
   "outputs": [],
   "source": [
    "def count(li, value):\n",
    "    cnt = 0\n",
    "    for item in li :\n",
    "        cnt+= 1 if item==value else 0\n",
    "    return cnt"
   ]
  },
  {
   "cell_type": "code",
   "execution_count": 12,
   "metadata": {},
   "outputs": [
    {
     "name": "stdout",
     "output_type": "stream",
     "text": [
      "['Recovering', 'Recovered', 'Passed Away']\n",
      "[336, 355, 309]\n"
     ]
    },
    {
     "data": {
      "image/png": "[encoded data removed]",
      "text/plain": [
       "<Figure size 720x360 with 1 Axes>"
      ]
     },
     "metadata": {
      "needs_background": "light"
     },
     "output_type": "display_data"
    }
   ],
   "source": [
    "import numpy as np\n",
    "import matplotlib.pyplot as plt\n",
    "status = list(set(df[\"status\"]))\n",
    "values = [ count(df[\"status\"], x) for x in status]\n",
    "print(status)  \n",
    "print(values)  \n",
    "fig = plt.figure(figsize = (10, 5))\n",
    " \n",
    "# creating the bar plot\n",
    "plt.bar(status, values, color ='blue',\n",
    "        width = 0.4)\n",
    " \n",
    "plt.xlabel(\"Patient status\")\n",
    "plt.ylabel(\"No. of patients\")\n",
    "plt.show()"
   ]
  },
  {
   "cell_type": "code",
   "execution_count": 16,
   "metadata": {},
   "outputs": [
    {
     "name": "stdout",
     "output_type": "stream",
     "text": [
      "Overall Recovery Rate:  69.1 %\n"
     ]
    }
   ],
   "source": [
    "num = values[0] + values[1]\n",
    "deno = values[0] + values[1] + values[2]\n",
    "recoveryRate = num/deno\n",
    "print(\"Overall Recovery Rate: \", recoveryRate*100, '%')"
   ]
  },
  {
   "cell_type": "markdown",
   "metadata": {},
   "source": [
    "## Data Analysis: Hospital wise Patients Admitted"
   ]
  },
  {
   "cell_type": "code",
   "execution_count": 30,
   "metadata": {},
   "outputs": [],
   "source": [
    "def countPatientInHospital(df, hospital):\n",
    "    cnt = 0;\n",
    "    for index, row in df.iterrows():\n",
    "        cnt += 1 if row[\"hospital_name\"]==hospital else 0\n",
    "    return cnt"
   ]
  },
  {
   "cell_type": "code",
   "execution_count": 32,
   "metadata": {},
   "outputs": [
    {
     "name": "stdout",
     "output_type": "stream",
     "text": [
      "['Aditya Hospitals', 'Amit Jaggi Memorial Hospital', 'Apex Hospitals', 'Kanpur Medical Center', 'Amar Leela Hospital', 'Amit Jaggi Center', 'HOSMAT Hospital', 'Bombay Hospital', 'Yashoda Super Center', 'Manipal Hospital']\n",
      "[54, 61, 233, 168, 49, 110, 94, 64, 60, 107]\n"
     ]
    },
    {
     "data": {
      "image/png": "[encoded data removed]",
      "text/plain": [
       "<Figure size 720x360 with 1 Axes>"
      ]
     },
     "metadata": {
      "needs_background": "light"
     },
     "output_type": "display_data"
    }
   ],
   "source": [
    "import numpy as np\n",
    "import matplotlib.pyplot as plt\n",
    "hosp = list(set(df[\"hospital_name\"]))\n",
    "values = [ countPatientInHospital(df, x) for x in hosp]\n",
    "print(hosp)  \n",
    "print(values)  \n",
    "fig = plt.figure(figsize = (10, 5))\n",
    " \n",
    "# creating the bar plot\n",
    "plt.bar(hosp, values, color ='green',\n",
    "        width = 0.4)\n",
    "plt.xticks(rotation=45)\n",
    "plt.title(\"Hospital wise Patients Admitted\")\n",
    "plt.xlabel(\"Patient status\")\n",
    "plt.ylabel(\"No. of patients\")\n",
    "plt.show()\n"
   ]
  },
  {
   "cell_type": "code",
   "execution_count": null,
   "metadata": {},
   "outputs": [],
   "source": []
  }
 ],
 "metadata": {
  "kernelspec": {
   "display_name": "Python 3",
   "language": "python",
   "name": "python3"
  },
  "language_info": {
   "codemirror_mode": {
    "name": "ipython",
    "version": 3
   },
   "file_extension": ".py",
   "mimetype": "text/x-python",
   "name": "python",
   "nbconvert_exporter": "python",
   "pygments_lexer": "ipython3",
   "version": "3.6.9"
  }
 },
 "nbformat": 4,
 "nbformat_minor": 2
}
